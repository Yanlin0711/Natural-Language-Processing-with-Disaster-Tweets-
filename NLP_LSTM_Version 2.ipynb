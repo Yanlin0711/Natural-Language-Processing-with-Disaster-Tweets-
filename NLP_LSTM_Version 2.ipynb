{
 "cells": [
  {
   "cell_type": "code",
   "execution_count": 30,
   "id": "da5213e4",
   "metadata": {
    "scrolled": true
   },
   "outputs": [],
   "source": [
    "import seaborn as sns\n",
    "import matplotlib.pyplot as plt\n",
    "\n",
    "#Libraries for formattting and handling text \n",
    "import string \n",
    "import re\n",
    "\n",
    "#Library for nltk\n",
    "import nltk\n",
    "from nltk.corpus import stopwords\n",
    "from nltk.tokenize import sent_tokenize, word_tokenize\n",
    "from wordcloud import WordCloud, STOPWORDS\n",
    "\n",
    "\n",
    "#Library for Splitting Dataset\n",
    "from sklearn.model_selection import train_test_split\n",
    "\n",
    "\n",
    "#Libraries for NN\n",
    "import tensorflow as tf\n",
    "\n",
    "from tensorflow import keras\n",
    "from tensorflow.keras.preprocessing.text import Tokenizer\n",
    "from nltk.stem import PorterStemmer, WordNetLemmatizer\n",
    "from tensorflow.keras.preprocessing.sequence import pad_sequences\n",
    "from nltk.tokenize import TweetTokenizer\n",
    "\n",
    "from tensorflow.keras import optimizers\n",
    "from tensorflow.keras.models import Sequential\n",
    "from tensorflow.keras.layers import Dense, Embedding, LSTM, Dropout\n",
    "\n",
    "from tensorflow.keras.utils import plot_model\n",
    "\n",
    "#Library for evaluation\n",
    "from sklearn import metrics\n",
    "from functools import reduce\n",
    "from sklearn.metrics import confusion_matrix\n",
    "from sklearn.metrics import classification_report\n",
    "from collections import defaultdict\n",
    "\n",
    "import pandas as pd"
   ]
  },
  {
   "cell_type": "markdown",
   "id": "898311bd",
   "metadata": {},
   "source": [
    "### Step 1: Import training and testing dataset and check out data properties"
   ]
  },
  {
   "cell_type": "code",
   "execution_count": 15,
   "id": "7ce86b7b",
   "metadata": {},
   "outputs": [],
   "source": [
    "train_data = pd.read_csv('D:/WorkSample/Natural-Language-Processing-with-Disaster-Tweets--main/train.csv')\n",
    "test_data  = pd.read_csv('D:/WorkSample/Natural-Language-Processing-with-Disaster-Tweets--main/test.csv')"
   ]
  },
  {
   "cell_type": "code",
   "execution_count": 16,
   "id": "92bc5d87",
   "metadata": {},
   "outputs": [
    {
     "data": {
      "text/html": [
       "<div>\n",
       "<style scoped>\n",
       "    .dataframe tbody tr th:only-of-type {\n",
       "        vertical-align: middle;\n",
       "    }\n",
       "\n",
       "    .dataframe tbody tr th {\n",
       "        vertical-align: top;\n",
       "    }\n",
       "\n",
       "    .dataframe thead th {\n",
       "        text-align: right;\n",
       "    }\n",
       "</style>\n",
       "<table border=\"1\" class=\"dataframe\">\n",
       "  <thead>\n",
       "    <tr style=\"text-align: right;\">\n",
       "      <th></th>\n",
       "      <th>id</th>\n",
       "      <th>keyword</th>\n",
       "      <th>location</th>\n",
       "      <th>text</th>\n",
       "      <th>target</th>\n",
       "    </tr>\n",
       "  </thead>\n",
       "  <tbody>\n",
       "    <tr>\n",
       "      <th>0</th>\n",
       "      <td>1</td>\n",
       "      <td>NaN</td>\n",
       "      <td>NaN</td>\n",
       "      <td>Our Deeds are the Reason of this #earthquake M...</td>\n",
       "      <td>1</td>\n",
       "    </tr>\n",
       "    <tr>\n",
       "      <th>1</th>\n",
       "      <td>4</td>\n",
       "      <td>NaN</td>\n",
       "      <td>NaN</td>\n",
       "      <td>Forest fire near La Ronge Sask. Canada</td>\n",
       "      <td>1</td>\n",
       "    </tr>\n",
       "    <tr>\n",
       "      <th>2</th>\n",
       "      <td>5</td>\n",
       "      <td>NaN</td>\n",
       "      <td>NaN</td>\n",
       "      <td>All residents asked to 'shelter in place' are ...</td>\n",
       "      <td>1</td>\n",
       "    </tr>\n",
       "    <tr>\n",
       "      <th>3</th>\n",
       "      <td>6</td>\n",
       "      <td>NaN</td>\n",
       "      <td>NaN</td>\n",
       "      <td>13,000 people receive #wildfires evacuation or...</td>\n",
       "      <td>1</td>\n",
       "    </tr>\n",
       "    <tr>\n",
       "      <th>4</th>\n",
       "      <td>7</td>\n",
       "      <td>NaN</td>\n",
       "      <td>NaN</td>\n",
       "      <td>Just got sent this photo from Ruby #Alaska as ...</td>\n",
       "      <td>1</td>\n",
       "    </tr>\n",
       "    <tr>\n",
       "      <th>5</th>\n",
       "      <td>8</td>\n",
       "      <td>NaN</td>\n",
       "      <td>NaN</td>\n",
       "      <td>#RockyFire Update =&gt; California Hwy. 20 closed...</td>\n",
       "      <td>1</td>\n",
       "    </tr>\n",
       "    <tr>\n",
       "      <th>6</th>\n",
       "      <td>10</td>\n",
       "      <td>NaN</td>\n",
       "      <td>NaN</td>\n",
       "      <td>#flood #disaster Heavy rain causes flash flood...</td>\n",
       "      <td>1</td>\n",
       "    </tr>\n",
       "    <tr>\n",
       "      <th>7</th>\n",
       "      <td>13</td>\n",
       "      <td>NaN</td>\n",
       "      <td>NaN</td>\n",
       "      <td>I'm on top of the hill and I can see a fire in...</td>\n",
       "      <td>1</td>\n",
       "    </tr>\n",
       "    <tr>\n",
       "      <th>8</th>\n",
       "      <td>14</td>\n",
       "      <td>NaN</td>\n",
       "      <td>NaN</td>\n",
       "      <td>There's an emergency evacuation happening now ...</td>\n",
       "      <td>1</td>\n",
       "    </tr>\n",
       "    <tr>\n",
       "      <th>9</th>\n",
       "      <td>15</td>\n",
       "      <td>NaN</td>\n",
       "      <td>NaN</td>\n",
       "      <td>I'm afraid that the tornado is coming to our a...</td>\n",
       "      <td>1</td>\n",
       "    </tr>\n",
       "  </tbody>\n",
       "</table>\n",
       "</div>"
      ],
      "text/plain": [
       "   id keyword location                                               text  \\\n",
       "0   1     NaN      NaN  Our Deeds are the Reason of this #earthquake M...   \n",
       "1   4     NaN      NaN             Forest fire near La Ronge Sask. Canada   \n",
       "2   5     NaN      NaN  All residents asked to 'shelter in place' are ...   \n",
       "3   6     NaN      NaN  13,000 people receive #wildfires evacuation or...   \n",
       "4   7     NaN      NaN  Just got sent this photo from Ruby #Alaska as ...   \n",
       "5   8     NaN      NaN  #RockyFire Update => California Hwy. 20 closed...   \n",
       "6  10     NaN      NaN  #flood #disaster Heavy rain causes flash flood...   \n",
       "7  13     NaN      NaN  I'm on top of the hill and I can see a fire in...   \n",
       "8  14     NaN      NaN  There's an emergency evacuation happening now ...   \n",
       "9  15     NaN      NaN  I'm afraid that the tornado is coming to our a...   \n",
       "\n",
       "   target  \n",
       "0       1  \n",
       "1       1  \n",
       "2       1  \n",
       "3       1  \n",
       "4       1  \n",
       "5       1  \n",
       "6       1  \n",
       "7       1  \n",
       "8       1  \n",
       "9       1  "
      ]
     },
     "execution_count": 16,
     "metadata": {},
     "output_type": "execute_result"
    }
   ],
   "source": [
    "train_data.head(10)"
   ]
  },
  {
   "cell_type": "code",
   "execution_count": 17,
   "id": "6db1582e",
   "metadata": {},
   "outputs": [
    {
     "name": "stdout",
     "output_type": "stream",
     "text": [
      "There are 7613 rows and 5 columns in train\n",
      "There are 3263 rows and 4 columns in train\n"
     ]
    }
   ],
   "source": [
    "print('There are {} rows and {} columns in train'.format(train_data.shape[0],train_data.shape[1]))\n",
    "print('There are {} rows and {} columns in train'.format(test_data.shape[0],test_data.shape[1]))"
   ]
  },
  {
   "cell_type": "code",
   "execution_count": 18,
   "id": "b86dd1bd",
   "metadata": {},
   "outputs": [
    {
     "data": {
      "text/plain": [
       "'Forest fire near La Ronge Sask. Canada'"
      ]
     },
     "execution_count": 18,
     "metadata": {},
     "output_type": "execute_result"
    }
   ],
   "source": [
    "train_data['text'][1]"
   ]
  },
  {
   "cell_type": "code",
   "execution_count": 19,
   "id": "87724da8",
   "metadata": {},
   "outputs": [
    {
     "name": "stderr",
     "output_type": "stream",
     "text": [
      "C:\\Users\\yanli\\anaconda3\\lib\\site-packages\\seaborn\\_decorators.py:36: FutureWarning: Pass the following variables as keyword args: x, y. From version 0.12, the only valid positional argument will be `data`, and passing other arguments without an explicit keyword will result in an error or misinterpretation.\n",
      "  warnings.warn(\n"
     ]
    },
    {
     "data": {
      "text/plain": [
       "Text(0, 0.5, 'samples')"
      ]
     },
     "execution_count": 19,
     "metadata": {},
     "output_type": "execute_result"
    },
    {
     "data": {
      "image/png": "[encoded data removed]",
      "text/plain": [
       "<Figure size 432x288 with 1 Axes>"
      ]
     },
     "metadata": {
      "needs_background": "light"
     },
     "output_type": "display_data"
    }
   ],
   "source": [
    "#Data distribution check. Let's see if this dataset is extremely imbalannced or not.\n",
    "x=train_data.target.value_counts()\n",
    "sns.barplot(x.index,x)\n",
    "plt.gca().set_ylabel('samples')"
   ]
  },
  {
   "cell_type": "markdown",
   "id": "f5e38b99",
   "metadata": {},
   "source": [
    "The picture following can show us distributions of the number of characters for each class"
   ]
  },
  {
   "cell_type": "code",
   "execution_count": 20,
   "id": "006b12e2",
   "metadata": {},
   "outputs": [
    {
     "data": {
      "image/png": "[encoded data removed]",
      "text/plain": [
       "<Figure size 720x360 with 2 Axes>"
      ]
     },
     "metadata": {
      "needs_background": "light"
     },
     "output_type": "display_data"
    }
   ],
   "source": [
    "fig,(ax1,ax2)=plt.subplots(1,2,figsize=(10,5))\n",
    "tweet_len=train_data[train_data['target']==1]['text'].str.len()\n",
    "ax1.hist(tweet_len,color='blue')\n",
    "ax1.set_title('disaster tweets')\n",
    "tweet_len=train_data[train_data['target']==0]['text'].str.len()\n",
    "ax2.hist(tweet_len,color='CRIMSON')\n",
    "ax2.set_title('Not disaster tweets')\n",
    "fig.suptitle('Characters in tweets')\n",
    "plt.show()"
   ]
  },
  {
   "cell_type": "markdown",
   "id": "024f5b49",
   "metadata": {},
   "source": [
    "The picture following can show us distributions of the number of words for each class"
   ]
  },
  {
   "cell_type": "code",
   "execution_count": 21,
   "id": "b63fad60",
   "metadata": {},
   "outputs": [
    {
     "data": {
      "image/png": "[encoded data removed]",
      "text/plain": [
       "<Figure size 720x360 with 2 Axes>"
      ]
     },
     "metadata": {
      "needs_background": "light"
     },
     "output_type": "display_data"
    }
   ],
   "source": [
    "fig,(ax1,ax2)=plt.subplots(1,2,figsize=(10,5))\n",
    "tweet_len=train_data[train_data['target']==1]['text'].str.split().map(lambda x: len(x))\n",
    "ax1.hist(tweet_len,color='blue')\n",
    "ax1.set_title('disaster tweets')\n",
    "tweet_len=train_data[train_data['target']==0]['text'].str.split().map(lambda x: len(x))\n",
    "ax2.hist(tweet_len,color='CRIMSON')\n",
    "ax2.set_title('Not disaster tweets')\n",
    "fig.suptitle('Words in a tweet')\n",
    "plt.show()"
   ]
  },
  {
   "cell_type": "code",
   "execution_count": 22,
   "id": "e29b946d",
   "metadata": {},
   "outputs": [
    {
     "data": {
      "text/plain": [
       "<BarContainer object of 30 artists>"
      ]
     },
     "execution_count": 22,
     "metadata": {},
     "output_type": "execute_result"
    },
    {
     "data": {
      "image/png": "[encoded data removed]",
      "text/plain": [
       "<Figure size 1440x720 with 1 Axes>"
      ]
     },
     "metadata": {
      "needs_background": "light"
     },
     "output_type": "display_data"
    }
   ],
   "source": [
    "#Code following will generate a list that contains all the words in the 'text' column of training data\n",
    "corpus=[]\n",
    "    \n",
    "for x in train_data['text'].str.split():\n",
    "    for i in x:\n",
    "        corpus.append(i)\n",
    "\n",
    "#Code bellow will create a dictionary that contains all the words that are NOT stopwords       \n",
    "dic=defaultdict(int)\n",
    "for word in corpus:\n",
    "    if word not in stop:\n",
    "        dic[word]+=1\n",
    "\n",
    "#Picture below will show top 30 frequently used words\n",
    "top=sorted(dic.items(), key=lambda x:x[1],reverse=True)[:30] \n",
    "x,y=zip(*top)\n",
    "plt.rcParams[\"figure.figsize\"] = (20,10)\n",
    "plt.bar(x,y , color ='red')"
   ]
  },
  {
   "cell_type": "code",
   "execution_count": 23,
   "id": "bb9972db",
   "metadata": {},
   "outputs": [
    {
     "data": {
      "text/plain": [
       "<BarContainer object of 30 artists>"
      ]
     },
     "execution_count": 23,
     "metadata": {},
     "output_type": "execute_result"
    },
    {
     "data": {
      "image/png": "[encoded data removed]",
      "text/plain": [
       "<Figure size 1440x720 with 1 Axes>"
      ]
     },
     "metadata": {
      "needs_background": "light"
     },
     "output_type": "display_data"
    }
   ],
   "source": [
    "#The code logic below is queit same with cell above. However, the bar chart below \n",
    "#shows the top 30 frequently used stopwords\n",
    "from nltk.corpus import stopwords\n",
    "stop = stopwords.words('english')\n",
    "dic=defaultdict(int)\n",
    "for word in corpus:\n",
    "    if word in stop:\n",
    "        dic[word]+=1\n",
    "\n",
    "top=sorted(dic.items(), key=lambda x:x[1],reverse=True)[:30] \n",
    "x,y=zip(*top)\n",
    "plt.rcParams[\"figure.figsize\"] = (20,10)\n",
    "#There is also this workaround in case you want to change the size without using the figure environment.\n",
    "#So in case you are using plt.plot() for example, you can set a tuple with width and height.\n",
    "plt.bar(x,y , color ='green')"
   ]
  },
  {
   "cell_type": "code",
   "execution_count": 24,
   "id": "2223e974",
   "metadata": {},
   "outputs": [
    {
     "data": {
      "text/plain": [
       "<BarContainer object of 23 artists>"
      ]
     },
     "execution_count": 24,
     "metadata": {},
     "output_type": "execute_result"
    },
    {
     "data": {
      "image/png": "[encoded data removed]",
      "text/plain": [
       "<Figure size 720x360 with 1 Axes>"
      ]
     },
     "metadata": {
      "needs_background": "light"
     },
     "output_type": "display_data"
    }
   ],
   "source": [
    "#We can use the same logic to get same chart with punctuations. \n",
    "plt.figure(figsize=(10,5))\n",
    "import string\n",
    "dic=defaultdict(int)\n",
    "special = string.punctuation\n",
    "for i in (corpus):\n",
    "    if i in special:\n",
    "        dic[i]+=1\n",
    "top=sorted(dic.items(), key=lambda x:x[1],reverse=True) \n",
    "x,y=zip(*top)\n",
    "plt.bar(x,y ,color = 'blue')"
   ]
  },
  {
   "cell_type": "markdown",
   "id": "cc4870cb",
   "metadata": {},
   "source": [
    "### Step 2 : Data sanitizing following  NLP process"
   ]
  },
  {
   "cell_type": "markdown",
   "id": "9e8be2a9",
   "metadata": {},
   "source": [
    "The following four functions are designed to sanitize the text filed. "
   ]
  },
  {
   "cell_type": "code",
   "execution_count": 25,
   "id": "c82d400a",
   "metadata": {},
   "outputs": [],
   "source": [
    "#Function that remove special characters\n",
    "def RemoveUnnecessaryChar(sentence):\n",
    "    for sentence1 in sentence:\n",
    "        sentence1 = str(sentence1)\n",
    "        sentence1 = sentence1.lower()\n",
    "        formatted_sent = re.sub(r'https?:\\/\\/.*[\\r\\n]*','',sentence1) #  Remove hyperlinks\n",
    "        formatted_sent = formatted_sent.replace('{html}',\"\")\n",
    "        formatted_sent = re.sub(r'#','',formatted_sent) # Removed Hashtags\n",
    "        formatted_sent = re.sub(r'[0-9]','',formatted_sent) # Removes Numbers\n",
    "        formatted_sent = re.sub(r'@[A-Za-z]*','',formatted_sent) # Removed @ Tags\n",
    "        formatted_sent = re.sub(r\"[\"\n",
    "                           u\"\\U0001F600-\\U0001F64F\"  # emoticons\n",
    "                           u\"\\U0001F300-\\U0001F5FF\"  # symbols & pictographs\n",
    "                           u\"\\U0001F680-\\U0001F6FF\"  # transport & map symbols\n",
    "                           u\"\\U0001F1E0-\\U0001F1FF\"  # flags (iOS)\n",
    "                           u\"\\U00002702-\\U000027B0\"\n",
    "                           u\"\\U000024C2-\\U0001F251\"\n",
    "                           \"]+\", \"\", formatted_sent)\n",
    "        \n",
    "        sent.append(formatted_sent)"
   ]
  },
  {
   "cell_type": "code",
   "execution_count": 26,
   "id": "5b3a2d66",
   "metadata": {},
   "outputs": [],
   "source": [
    "#Function that tokenizes each text\n",
    "def TokenizeSentence(sentence):\n",
    "    tokenizer = TweetTokenizer(preserve_case = False,strip_handles = True,reduce_len=True)\n",
    "    for sentence in sent:\n",
    "        tokenized_sentence = tokenizer.tokenize(sentence)\n",
    "        tokenized_sent.append(tokenized_sentence)"
   ]
  },
  {
   "cell_type": "code",
   "execution_count": 27,
   "id": "46f403a4",
   "metadata": {},
   "outputs": [],
   "source": [
    "#Function that removes stop words\n",
    "def stopwordsSentence(sent):\n",
    "    for sentence in sent:\n",
    "        formatted_words=[]\n",
    "        for word in sentence:\n",
    "            if word not in stopwords_eng and word not in string.punctuation and len(word)>2:\n",
    "                formatted_words.append(word)\n",
    "        formatted_sent.append(formatted_words)"
   ]
  },
  {
   "cell_type": "markdown",
   "id": "50b8583f",
   "metadata": {},
   "source": [
    "Why we choose lemmatizing rather than stemming? Lemmatizing is more powerful and smarter than stemming since lemmatizing use morphological analysis to look up proper form of a word in the dictionary. Stemming simply cut the suffix from the word. "
   ]
  },
  {
   "cell_type": "code",
   "execution_count": 28,
   "id": "1d5d912c",
   "metadata": {},
   "outputs": [],
   "source": [
    "#Function that lemmatize the text\n",
    "def lemmatizeSentence(sent):\n",
    "    lemma = WordNetLemmatizer()\n",
    "    for sentence in sent:\n",
    "            lemma_words = []\n",
    "            for word in sentence:\n",
    "                lemma_word = lemma.lemmatize(word)\n",
    "                lemma_words.append(lemma_word)\n",
    "            lemma_sent.append(lemma_words)"
   ]
  },
  {
   "cell_type": "markdown",
   "id": "604fd73f",
   "metadata": {},
   "source": [
    "Let's drop columns that are not useful to the machine learning model and add the sanitized text as a new column."
   ]
  },
  {
   "cell_type": "code",
   "execution_count": 31,
   "id": "e59b0b3d",
   "metadata": {},
   "outputs": [
    {
     "data": {
      "text/html": [
       "<div>\n",
       "<style scoped>\n",
       "    .dataframe tbody tr th:only-of-type {\n",
       "        vertical-align: middle;\n",
       "    }\n",
       "\n",
       "    .dataframe tbody tr th {\n",
       "        vertical-align: top;\n",
       "    }\n",
       "\n",
       "    .dataframe thead th {\n",
       "        text-align: right;\n",
       "    }\n",
       "</style>\n",
       "<table border=\"1\" class=\"dataframe\">\n",
       "  <thead>\n",
       "    <tr style=\"text-align: right;\">\n",
       "      <th></th>\n",
       "      <th>target</th>\n",
       "      <th>FinalText</th>\n",
       "    </tr>\n",
       "  </thead>\n",
       "  <tbody>\n",
       "    <tr>\n",
       "      <th>0</th>\n",
       "      <td>1</td>\n",
       "      <td>[deed, reason, earthquake, may, allah, forgive]</td>\n",
       "    </tr>\n",
       "    <tr>\n",
       "      <th>1</th>\n",
       "      <td>1</td>\n",
       "      <td>[forest, fire, near, ronge, sask, canada]</td>\n",
       "    </tr>\n",
       "    <tr>\n",
       "      <th>2</th>\n",
       "      <td>1</td>\n",
       "      <td>[resident, asked, shelter, place, notified, of...</td>\n",
       "    </tr>\n",
       "    <tr>\n",
       "      <th>3</th>\n",
       "      <td>1</td>\n",
       "      <td>[people, receive, wildfire, evacuation, order,...</td>\n",
       "    </tr>\n",
       "    <tr>\n",
       "      <th>4</th>\n",
       "      <td>1</td>\n",
       "      <td>[got, sent, photo, ruby, alaska, smoke, wildfi...</td>\n",
       "    </tr>\n",
       "  </tbody>\n",
       "</table>\n",
       "</div>"
      ],
      "text/plain": [
       "   target                                          FinalText\n",
       "0       1    [deed, reason, earthquake, may, allah, forgive]\n",
       "1       1          [forest, fire, near, ronge, sask, canada]\n",
       "2       1  [resident, asked, shelter, place, notified, of...\n",
       "3       1  [people, receive, wildfire, evacuation, order,...\n",
       "4       1  [got, sent, photo, ruby, alaska, smoke, wildfi..."
      ]
     },
     "execution_count": 31,
     "metadata": {},
     "output_type": "execute_result"
    }
   ],
   "source": [
    "sent = []\n",
    "RemoveUnnecessaryChar(train_data['text'])\n",
    "tokenized_sent = []\n",
    "TokenizeSentence(sent)\n",
    "stopwords_eng = stopwords.words('english')\n",
    "formatted_sent = []\n",
    "stopwordsSentence(tokenized_sent)\n",
    "lemma_sent = []\n",
    "lemmatizeSentence(formatted_sent)\n",
    "train_data['FinalText'] = lemma_sent\n",
    "train_data = train_data.drop(['id','keyword','location','text'],axis = 1)\n",
    "train_data.head()"
   ]
  },
  {
   "cell_type": "markdown",
   "id": "c4cb4d57",
   "metadata": {},
   "source": [
    "The following cells are about training and fitting the LSTM model. "
   ]
  },
  {
   "cell_type": "code",
   "execution_count": 36,
   "id": "fb727d74",
   "metadata": {},
   "outputs": [
    {
     "data": {
      "text/plain": [
       "array([   0,    0,    0,    0,    0,    0,    0,    0,    0,    0,    0,\n",
       "          0,    0,  421,  208,   61, 1305])"
      ]
     },
     "execution_count": 36,
     "metadata": {},
     "output_type": "execute_result"
    }
   ],
   "source": [
    "max_features=3000\n",
    "\n",
    "#Tokenizer is supported by Tensorflow, and it is used to encode text tokens to numeric values\n",
    "#The reason why we use numeric values rather than text tokens is that for LSTM embedding layers, numeric\n",
    "#values are required. Machine cannot read text.\n",
    "tokenizer=Tokenizer(num_words=max_features,split=' ')\n",
    "tokenizer.fit_on_texts(train_data['FinalText'].values)\n",
    "#Fit_on_texts() Updates internal vocabulary based on a list of texts. \n",
    "#It will create a dictionary with word mapping with an index (unique numerical value).\n",
    "\n",
    "X = tokenizer.texts_to_sequences(train_data['FinalText'].values)\n",
    "#texts_to_sequences() Transforms each text in texts to a sequence of numerical value. \n",
    "#It will give assign the index of each to the word. So the output will be series of numerical values.\n",
    "\n",
    "X = pad_sequences(X)\n",
    "#Pad_sequence is used to keep all sentence in the text field in the same dimension. Since each sentence has\n",
    "#different length. Pad_sequences will add bunch of zeros to the input. \n",
    "X[0]"
   ]
  },
  {
   "cell_type": "code",
   "execution_count": 33,
   "id": "c7e6b839",
   "metadata": {},
   "outputs": [],
   "source": [
    "y = train_data['target']\n",
    "X_train, X_test, y_train, y_test = train_test_split(X, y, test_size = 0.2, random_state =41)"
   ]
  },
  {
   "cell_type": "code",
   "execution_count": 37,
   "id": "c598c153",
   "metadata": {},
   "outputs": [
    {
     "name": "stdout",
     "output_type": "stream",
     "text": [
      "Model: \"sequential\"\n",
      "_________________________________________________________________\n",
      " Layer (type)                Output Shape              Param #   \n",
      "=================================================================\n",
      " embedding (Embedding)       (None, 17, 32)            96000     \n",
      "                                                                 \n",
      " dropout (Dropout)           (None, 17, 32)            0         \n",
      "                                                                 \n",
      " lstm (LSTM)                 (None, 32)                8320      \n",
      "                                                                 \n",
      " dense (Dense)               (None, 1)                 33        \n",
      "                                                                 \n",
      "=================================================================\n",
      "Total params: 104,353\n",
      "Trainable params: 104,353\n",
      "Non-trainable params: 0\n",
      "_________________________________________________________________\n",
      "None\n"
     ]
    }
   ],
   "source": [
    "embed_dim = 32\n",
    "lstm_out = 32\n",
    "model = Sequential()\n",
    "model.add(Embedding(max_features, embed_dim,input_length = X.shape[1]))\n",
    "#The code above is to set up the embedding layer for our LSTM model, which is setting up the input_dim, output_dim and \n",
    "#input_length to 32. \n",
    "\n",
    "model.add(Dropout(0.2))\n",
    "model.add(LSTM(lstm_out, dropout=0.2, recurrent_dropout=0.4))\n",
    "#Dropout is added to avoid overfitting. \n",
    "\n",
    "model.add(Dense(1,activation='sigmoid'))\n",
    "#Activation Function of Dense layer, i.e, is output layer is taken \n",
    "#as Sigmoid function is taken as it is good at binary classification and our target column have value either 0 or 1.\n",
    "\n",
    "adam = optimizers.Adam(learning_rate=0.002)\n",
    "model.compile(loss = 'binary_crossentropy', optimizer=adam ,metrics = ['accuracy'])\n",
    "#Adam is used as optimizer which is replacement optimization algorithm for \n",
    "#stochastic gradient descent for training deep learning models.\n",
    "print(model.summary())"
   ]
  },
  {
   "cell_type": "code",
   "execution_count": 38,
   "id": "5fc4526a",
   "metadata": {},
   "outputs": [
    {
     "name": "stdout",
     "output_type": "stream",
     "text": [
      "Epoch 1/10\n",
      "191/191 [==============================] - 4s 11ms/step - loss: 0.5400 - accuracy: 0.7200 - val_loss: 0.4221 - val_accuracy: 0.8181\n",
      "Epoch 2/10\n",
      "191/191 [==============================] - 2s 10ms/step - loss: 0.3795 - accuracy: 0.8365 - val_loss: 0.4323 - val_accuracy: 0.8083\n",
      "Epoch 3/10\n",
      "191/191 [==============================] - 2s 10ms/step - loss: 0.3262 - accuracy: 0.8644 - val_loss: 0.4591 - val_accuracy: 0.7991\n",
      "Epoch 4/10\n",
      "191/191 [==============================] - 2s 10ms/step - loss: 0.2923 - accuracy: 0.8788 - val_loss: 0.5014 - val_accuracy: 0.7840\n",
      "Epoch 5/10\n",
      "191/191 [==============================] - 2s 10ms/step - loss: 0.2715 - accuracy: 0.8865 - val_loss: 0.5532 - val_accuracy: 0.7787\n",
      "Epoch 6/10\n",
      "191/191 [==============================] - 2s 10ms/step - loss: 0.2459 - accuracy: 0.9005 - val_loss: 0.5999 - val_accuracy: 0.7728\n",
      "Epoch 7/10\n",
      "191/191 [==============================] - 2s 10ms/step - loss: 0.2227 - accuracy: 0.9071 - val_loss: 0.6760 - val_accuracy: 0.7735\n",
      "Epoch 8/10\n",
      "191/191 [==============================] - 2s 12ms/step - loss: 0.2083 - accuracy: 0.9112 - val_loss: 0.7446 - val_accuracy: 0.7676\n",
      "Epoch 9/10\n",
      "191/191 [==============================] - 2s 11ms/step - loss: 0.1837 - accuracy: 0.9253 - val_loss: 0.8122 - val_accuracy: 0.7669\n",
      "Epoch 10/10\n",
      "191/191 [==============================] - 2s 11ms/step - loss: 0.1740 - accuracy: 0.9253 - val_loss: 0.8175 - val_accuracy: 0.7617\n",
      "48/48 [==============================] - 0s 2ms/step\n"
     ]
    }
   ],
   "source": [
    "model.fit(X_train, y_train, epochs = 10, batch_size=32, validation_data=(X_test, y_test))\n",
    "y_pred = model.predict(X_test).round()"
   ]
  },
  {
   "cell_type": "markdown",
   "id": "71bfdbc2",
   "metadata": {},
   "source": [
    "We can see that precision and recall of our model are both over 70%, which is good enough for a experimental project"
   ]
  },
  {
   "cell_type": "code",
   "execution_count": 39,
   "id": "9a067575",
   "metadata": {},
   "outputs": [
    {
     "name": "stdout",
     "output_type": "stream",
     "text": [
      "Accuracy  is  :  0.7616546290216678\n",
      "Recall  is    :  0.7301829268292683\n",
      "Precision  is :  0.7203007518796992\n"
     ]
    }
   ],
   "source": [
    "print('Accuracy  is  : ', (metrics.accuracy_score(y_test, y_pred)))\n",
    "print('Recall  is    : ', (metrics.recall_score(y_test, y_pred)))\n",
    "print('Precision  is : ', (metrics.precision_score(y_test, y_pred)))"
   ]
  },
  {
   "cell_type": "code",
   "execution_count": 40,
   "id": "d5e1eadf",
   "metadata": {},
   "outputs": [
    {
     "name": "stdout",
     "output_type": "stream",
     "text": [
      "              precision    recall  f1-score   support\n",
      "\n",
      "           0       0.79      0.79      0.79       867\n",
      "           1       0.72      0.73      0.73       656\n",
      "\n",
      "    accuracy                           0.76      1523\n",
      "   macro avg       0.76      0.76      0.76      1523\n",
      "weighted avg       0.76      0.76      0.76      1523\n",
      "\n"
     ]
    }
   ],
   "source": [
    "print(classification_report(y_test, y_pred))"
   ]
  },
  {
   "cell_type": "markdown",
   "id": "e27d64a9",
   "metadata": {},
   "source": [
    "### Reference:\n",
    "#### 1. https://www.kaggle.com/code/naim99/your-first-nlp-competition-submission/notebook#Fitting-the-Test-data-for-submission\n",
    "#### 2.  https://www.kaggle.com/code/sandhyakrishnan02/nlp-with-disaster-tweets-using-lstm#10.-Model-creation-Using-LSTM"
   ]
  }
 ],
 "metadata": {
  "kernelspec": {
   "display_name": "Python 3",
   "language": "python",
   "name": "python3"
  },
  "language_info": {
   "codemirror_mode": {
    "name": "ipython",
    "version": 3
   },
   "file_extension": ".py",
   "mimetype": "text/x-python",
   "name": "python",
   "nbconvert_exporter": "python",
   "pygments_lexer": "ipython3",
   "version": "3.8.8"
  }
 },
 "nbformat": 4,
 "nbformat_minor": 5
}
